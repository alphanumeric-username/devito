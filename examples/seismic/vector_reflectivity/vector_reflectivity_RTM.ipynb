{
 "cells": [
  {
   "cell_type": "markdown",
   "metadata": {},
   "source": [
    "# Reverse Time Migration using a vector veflectivity based acoustic wave equation\n",
    "\n",
    "This tutorial will guide the reader through an implementation of a Reverse Time Migration (RTM) algorithm using an acoustic wave equation based on the vector reflectivity.\n",
    "\n",
    "This tutorial is based on the following paper:\n",
    "\n",
    "<br>**Seismic modeling with vector reflectivity** (2020)\n",
    "<br>N. D. Whitmore, J. Ramos-Martinez, Y. Yang, and A. A. Valenciano\n",
    "<br>SEG Technical Program Expanded Abstracts 2020\n",
    "<br>https://doi.org/10.1190/segam2020-3424516.1\n",
    "\n"
   ]
  },
  {
   "cell_type": "code",
   "execution_count": null,
   "metadata": {},
   "outputs": [],
   "source": [
    "from examples.seismic.source import RickerSource, TimeAxis, PointSource\n",
    "from examples.seismic.preset_models import Gardners\n",
    "from examples.seismic.utils import setup_geometry\n",
    "from examples.seismic import Model, Receiver\n",
    "from examples.seismic.vector_reflectivity import VectorReflectivityAcousticWaveSolver\n",
    "\n",
    "from devito import *\n",
    "\n",
    "import numpy as np\n",
    "\n",
    "import matplotlib.pyplot as plt"
   ]
  },
  {
   "cell_type": "markdown",
   "metadata": {},
   "source": [
    "## Foward modelling\n",
    "\n",
    "The acoustic wave equation can be rearranged to the following equation:\n",
    "\n",
    "$$\n",
    "m \\frac{\\partial^2 u}{\\partial t^2} - \\frac{1}{v_p} \\nabla \\cdot (v_p \\nabla u) + 2\\nabla \\cdot(u\\mathbf{R}) - 2u \\nabla \\cdot \\mathbf{R} = S\n",
    "$$\n",
    "\n",
    "where $S = S(\\mathbf{x}, t)$ is the source term, $v_p$ is the P-wave velocity, $\\mathbf{R} = \\dfrac{1}{2}\\dfrac{\\nabla z}{z}$ is the vector reflectivity and $z = v_p\\rho$ is the acoustic impedance."
   ]
  },
  {
   "cell_type": "code",
   "execution_count": null,
   "metadata": {},
   "outputs": [],
   "source": [
    "def vector_reflectivity_gardners(vp):\n",
    "    b = Gardners(vp)\n",
    "    z = vp/b\n",
    "    Dzz = np.hstack((np.diff(z, axis=1), np.zeros((1,vp.shape[0])).T))\n",
    "    Dxz = np.vstack((np.diff(z, axis=0), np.zeros(vp.shape[1])))\n",
    "    r = [0.5 * Dzz/z, 0.5 * Dxz/z]\n",
    "\n",
    "    return r"
   ]
  },
  {
   "cell_type": "code",
   "execution_count": null,
   "metadata": {},
   "outputs": [],
   "source": [
    "NX = 200\n",
    "NZ = 120\n",
    "\n",
    "SHAPE = (NX, NZ)\n",
    "SPACING = (10., 10.)\n",
    "ORIGIN = (0., 0.)\n",
    "NLAYERS = 3\n",
    "NBL = 50\n",
    "SPACE_ORDER = 8\n",
    "TIME_ORDER = 2\n",
    "DTYPE = np.float32\n",
    "\n",
    "# Velocity profile\n",
    "vp = np.empty(SHAPE, dtype=DTYPE)\n",
    "\n",
    "vp_top = 1.5 # km/s\n",
    "vp_bottom = 3.5 # km/s\n",
    "\n",
    "vp[:] = vp_top  # Top velocity (background)\n",
    "vp_i = np.linspace(vp_top, vp_bottom, NLAYERS)\n",
    "for i in range(1, NLAYERS):\n",
    "    vp[..., i*int(SHAPE[-1] / NLAYERS):] = vp_i[i]  # Bottom velocity\n",
    "\n",
    "b = Gardners(vp, False)\n",
    "r = vector_reflectivity_gardners(vp)"
   ]
  },
  {
   "cell_type": "code",
   "execution_count": null,
   "metadata": {},
   "outputs": [],
   "source": [
    "model = Model(vp=vp, b=b, origin=ORIGIN, space_order=SPACE_ORDER, shape=SHAPE, dtype=DTYPE, spacing=SPACING, nbl=NBL, bcs='damp')"
   ]
  },
  {
   "cell_type": "code",
   "execution_count": null,
   "metadata": {},
   "outputs": [],
   "source": [
    "# function to plot P wave velocit, and the x and z components of R\n",
    "def img_model(img1, img2, img3, model):\n",
    "\n",
    "    plt_options_model = {'cmap': 'jet', 'extent': [model.origin[0],\n",
    "                         model.origin[0] + model.domain_size[0],\n",
    "                         model.origin[1] + model.domain_size[1],\n",
    "                         model.origin[1]]}\n",
    "\n",
    "    fig, ax = plt.subplots(nrows=1, ncols=3, figsize=(25, 5))\n",
    "\n",
    "    scale1 = np.max(img1)\n",
    "    scale2 = np.min(img1)\n",
    "\n",
    "    imag1 = ax[0].imshow(np.transpose(img1), vmin=scale1, vmax=scale2,\n",
    "                         **plt_options_model)\n",
    "    fig.colorbar(imag1, ax=ax[0])\n",
    "    ax[0].set_title(\"Vp (km/s)\", fontsize=20)\n",
    "    ax[0].set_xlabel('z (m)', fontsize=20)\n",
    "    ax[0].set_ylabel('x (m)', fontsize=20)\n",
    "    ax[0].set_aspect('auto')\n",
    "\n",
    "    scale3 = np.max(img2)\n",
    "    scale4 = np.min(img2)\n",
    "\n",
    "    plt_options_model.update({'cmap': 'Greys'})\n",
    "\n",
    "    imag2 = ax[1].imshow(np.transpose(img2), vmin=scale3, vmax=scale4,\n",
    "                         **plt_options_model)\n",
    "    fig.colorbar(imag2, ax=ax[1])\n",
    "    ax[1].set_title(\"$R_x$ (m$^{-1}$)\", fontsize=20)\n",
    "    ax[1].set_xlabel('z (m)', fontsize=20)\n",
    "    ax[1].set_ylabel('x (m)', fontsize=20)\n",
    "    ax[1].set_aspect('auto')\n",
    "\n",
    "    scale5 = np.max(img3)\n",
    "    scale6 = np.min(img3)\n",
    "\n",
    "    imag3 = ax[2].imshow(np.transpose(img3), vmin=scale5, vmax=scale6,\n",
    "                         **plt_options_model)\n",
    "    fig.colorbar(imag3, ax=ax[2])\n",
    "    ax[2].set_title(r\"$R_z$ (m$^{-1}$)\", fontsize=20)\n",
    "    ax[2].set_xlabel('z (m)', fontsize=20)\n",
    "    ax[2].set_ylabel('x (m)', fontsize=20)\n",
    "    ax[2].set_aspect('auto')"
   ]
  },
  {
   "cell_type": "code",
   "execution_count": null,
   "metadata": {},
   "outputs": [],
   "source": [
    "img_model(vp, r[0], r[1], model)"
   ]
  },
  {
   "cell_type": "code",
   "execution_count": null,
   "metadata": {},
   "outputs": [],
   "source": [
    "f0 = 0.020  # peak/dominant frequency\n",
    "\n",
    "s = model.grid.stepping_dim.spacing\n",
    "damp = model.damp\n",
    "\n",
    "# Time step in ms and time range:\n",
    "t0, tn = 0., 1800.\n",
    "dt = model.critical_dt\n",
    "time_range = TimeAxis(start=t0, stop=tn, step=dt)\n",
    "\n",
    "geometry = setup_geometry(model, tn, f0=f0)\n",
    "geometry = geometry.resample(dt)"
   ]
  },
  {
   "cell_type": "code",
   "execution_count": null,
   "metadata": {},
   "outputs": [],
   "source": [
    "# Function to create sources and receivers\n",
    "def src_rec(model, geometry, src_pos, rec_depth, nrec):\n",
    "    src = RickerSource(name='src', grid=model.grid, f0=geometry.f0, \n",
    "                       time_range=geometry.time_axis)\n",
    "\n",
    "    rec = Receiver(name='rec', grid=model.grid, npoint=nrec,\n",
    "                   time_range=geometry.time_axis)\n",
    "\n",
    "    src.coordinates.data[:, 0] = src_pos[0]\n",
    "    src.coordinates.data[:, 1] = src_pos[1]\n",
    "    rec.coordinates.data[:, 0] = np.linspace(0, model.domain_size[0], num=nrec)\n",
    "    rec.coordinates.data[:, 1] = rec_depth\n",
    "    \n",
    "    return src, rec"
   ]
  },
  {
   "cell_type": "markdown",
   "metadata": {},
   "source": [
    "## The forward operator\n",
    "\n",
    "The forward operator extrapolates the modelling equation by finite differences. The finite difference scheme implementation is done by Devito."
   ]
  },
  {
   "cell_type": "code",
   "execution_count": null,
   "metadata": {},
   "outputs": [],
   "source": [
    "def forward(model, geometry, src, rec):\n",
    "    u = TimeFunction(name='u', grid=model.grid, save=geometry.nt, time_order=TIME_ORDER,\n",
    "                            space_order=SPACE_ORDER)\n",
    "\n",
    "    m = model.m\n",
    "    r = model.r\n",
    "    vp = model.vp\n",
    "\n",
    "    pde = m * u.dt2 - 1/vp * div(vp*grad(u, .5), -.5) + 2 * div(u * r, -.5)\\\n",
    "          - 2 * u * div(r, -.5) + model.damp * u.dt\n",
    "    stencil = [Eq(u.forward, solve(pde, u.forward))]\n",
    "\n",
    "    src_term = src.inject(field=u.forward, expr=src * model.critical_dt**2/model.m)\n",
    "    rec_term = rec.interpolate(expr=u)\n",
    "\n",
    "    op = Operator(stencil + src_term + rec_term, subs=model.spacing_map)\n",
    "    op(dt=dt)\n",
    "    \n",
    "    return u"
   ]
  },
  {
   "cell_type": "code",
   "execution_count": null,
   "metadata": {},
   "outputs": [],
   "source": [
    "# generating a shot with the source in the center of the model\n",
    "\n",
    "# src_pos = np.array([model.domain_size[0] * .5, 10.], dtype=DTYPE)\n",
    "src_pos = np.array(list(model.domain_size), dtype=DTYPE)/2\n",
    "\n",
    "rec_depth = 10.\n",
    "nrec = model.shape[0]\n",
    "\n",
    "src, rec = src_rec(model, geometry, src_pos, rec_depth, nrec)\n",
    "\n",
    "u = forward(model, geometry, src, rec)"
   ]
  },
  {
   "cell_type": "markdown",
   "metadata": {},
   "source": [
    "## Plotting shot data"
   ]
  },
  {
   "cell_type": "code",
   "execution_count": null,
   "metadata": {},
   "outputs": [],
   "source": [
    "# NBVAL_IGNORE_OUTPUT\n",
    "slices = [slice(model.nbl, -model.nbl), slice(model.nbl, -model.nbl)]\n",
    "\n",
    "aspect_ratio = model.shape[0]/model.shape[1]\n",
    "\n",
    "plt_options_model = {'cmap': 'Greys', 'extent': [model.origin[0], model.origin[0] +\n",
    "                                                 model.domain_size[0],\n",
    "                                                 model.origin[1] +\n",
    "                                                 model.domain_size[1],\n",
    "                                                 model.origin[1]]}\n",
    "fig, ax = plt.subplots(figsize=(13, 5))\n",
    "\n",
    "scale = np.max(rec.data) / 10.\n",
    "\n",
    "img1 = ax.imshow(rec.data, vmin=scale, vmax=-scale, **plt_options_model)\n",
    "fig.colorbar(img1, ax=ax)\n",
    "ax.set_title(\"Shot $u$\", fontsize=20)\n",
    "ax.set_xlabel('X (m)', fontsize=20)\n",
    "ax.set_ylabel('Time (s)', fontsize=20)\n",
    "ax.set_aspect('auto')\n",
    "\n",
    "plt.tight_layout()"
   ]
  },
  {
   "cell_type": "markdown",
   "metadata": {},
   "source": [
    "## Plotting wavefields snapshots"
   ]
  },
  {
   "cell_type": "code",
   "execution_count": null,
   "metadata": {},
   "outputs": [],
   "source": [
    "# NBVAL_IGNORE_OUTPUT\n",
    "# Some useful definitions for plotting if nbl is set to any other value than zero\n",
    "shape_pad = np.array(SHAPE) + 2 * NBL\n",
    "origin_pad = tuple([o - s*NBL for o, s in zip(ORIGIN, SPACING)])\n",
    "extent_pad = tuple([s*(n-1) for s, n in zip(SPACING, shape_pad)])\n",
    "# Note: flip sense of second dimension to make the plot positive downwards\n",
    "plt_extent = [origin_pad[0], origin_pad[0] + extent_pad[0],\n",
    "              origin_pad[1] + extent_pad[1], origin_pad[1]]\n",
    "\n",
    "\n",
    "def plot_wavefield(a, src_pos, title=None):\n",
    "    # Plot the wavefields, each normalized to scaled maximum of last time step\n",
    "    kt = (time_range.num - 2) - 1\n",
    "    amax = 10 * np.max(np.abs(a.data[kt, :, :]))\n",
    "\n",
    "    nsnaps = 9\n",
    "    factor = round(time_range.num / nsnaps)\n",
    "\n",
    "    fig, axes = plt.subplots(1, 4, figsize=(25, 4), sharex=True)\n",
    "    fig.suptitle(title, size=20)\n",
    "    for count, ax in enumerate(axes.ravel()):\n",
    "        snapshot = factor * (count + 1)\n",
    "        ax.imshow(np.transpose(a.data[snapshot, :, :]), cmap=\"seismic\", vmin=-amax,\n",
    "                  vmax=+amax, extent=plt_extent)\n",
    "        ax.plot(src_pos[0], src_pos[1], 'red', linestyle='None', marker='*',\n",
    "                markersize=8, label=\"Source\")\n",
    "        ax.grid()\n",
    "        ax.tick_params('both', length=4, width=0.5, which='major', labelsize=10)\n",
    "        ax.set_title(\"Wavefield at t=%.2fms\" % (factor*count*dt), fontsize=10)\n",
    "        ax.set_xlabel(\"X Coordinate (m)\", fontsize=10)\n",
    "        ax.set_ylabel(\"Z Coordinate (m)\", fontsize=10)\n",
    "\n",
    "\n",
    "plot_wavefield(u, src_pos, title=\"Snapshots $u$\")"
   ]
  },
  {
   "cell_type": "markdown",
   "metadata": {},
   "source": [
    "## The adjoint operator\n",
    "\n",
    "The adjoint operator solves the adjoint of the wave equation used in the modelling step with the receiver signal acting as the source term. The wave field is computed backwards in time, starting from the its state in final time $t = t_n$ and calculating the field in each timestep until the initial time $t = 0$. The adjoint wave equation in terms of the vector reflectivity is\n",
    "\n",
    "$$\n",
    "m\\frac{\\partial^2 v}{\\partial dt} - \\nabla \\cdot \\left[ v_p \\nabla\\left( \\frac{1}{v_p} v \\right) \\right] + 2 \\mathbf{R} \\cdot \\nabla v - 2v \\nabla \\cdot \\mathbf{R} = R\n",
    "$$\n",
    "\n",
    "where $v$ is the adjoint pressure field (the wave field) and $R$ is the adjoint source, which stores the receiver signal."
   ]
  },
  {
   "cell_type": "code",
   "execution_count": null,
   "metadata": {},
   "outputs": [],
   "source": [
    "# Function to create adjoint sources and receivers\n",
    "def adjoint_src(model, geometry, src_pos):\n",
    "    srca = PointSource(name='srca', grid=model.grid,\n",
    "                       time_range=geometry.time_axis,\n",
    "                       npoint=1)\n",
    "\n",
    "    srca.coordinates.data[:, 0] = src_pos[0]\n",
    "    srca.coordinates.data[:, 1] = src_pos[1]\n",
    "\n",
    "    return srca"
   ]
  },
  {
   "cell_type": "code",
   "execution_count": null,
   "metadata": {},
   "outputs": [],
   "source": [
    "def adjoint(model, geometry, rec, srca=None):\n",
    "    v = TimeFunction(name='v', grid=model.grid, save=geometry.nt, time_order=TIME_ORDER,\n",
    "                    space_order=SPACE_ORDER)\n",
    "    \n",
    "    m = model.m\n",
    "    vp = model.vp\n",
    "    r = model.r\n",
    "\n",
    "    pde = m * v.dt2 - div(vp * grad(v/vp, .5), -.5) - 2 * r.T * grad(v, .5)\\\n",
    "        - 2 * v * div(r, -.5) + model.damp * v.dt.T\n",
    "    stencil = [Eq(v.backward, solve(pde, v.backward))]\n",
    "    rec_term = rec.inject(v.backward, expr = rec * model.critical_dt**2 / m)\n",
    "\n",
    "    terms = stencil\n",
    "    terms += rec_term\n",
    "\n",
    "    if srca:\n",
    "        srca_term = srca.interpolate(expr=v)\n",
    "        terms += srca_term\n",
    "\n",
    "    op = Operator(terms, subs=model.spacing_map)\n",
    "    op(dt=dt)\n",
    "    return v"
   ]
  },
  {
   "cell_type": "code",
   "execution_count": null,
   "metadata": {},
   "outputs": [],
   "source": [
    "v = adjoint(model, geometry, rec)"
   ]
  },
  {
   "cell_type": "markdown",
   "metadata": {},
   "source": [
    "## Imaging condition\n",
    "\n",
    "We will use Claerbout's imaging condition where the image is constructed by cross-correlating the forward $u$ and adjoint $v$ wavefields in time:\n",
    "\n",
    "$$\n",
    "I = \\int_0^{t_n} u(t)v(t) dt\n",
    "$$\n",
    "\n",
    "In order to compensate the lower energy carried by incident waves to reflectors at lower depths, we will also divide the final image componentwise by the source illumination:\n",
    "\n",
    "$$\n",
    "I = \\frac{\\int_0^{t_n} u(x, z, t)v(x, z, t) dt}{\\int_0^{t_n} u(x, z, t)^2 dt}\n",
    "$$"
   ]
  },
  {
   "cell_type": "code",
   "execution_count": null,
   "metadata": {},
   "outputs": [],
   "source": [
    "def imaging_condition(u: np.ndarray, v: np.ndarray, cumulative = False) -> np.array:\n",
    "    \"\"\"\n",
    "    Implements the Claerbout's imaging condition.\n",
    "\n",
    "    Parameters\n",
    "    ----------\n",
    "\n",
    "    u : np.ndarray\n",
    "        The forward wavefield.\n",
    "    v : np.ndarray\n",
    "        The adjoint wavefield.\n",
    "    cumulative : bool\n",
    "        If `False`, only the final image will be returned. If `True`, returns the cumulative sum of the imaging condition along each time step.\n",
    "    \"\"\"\n",
    "    H = np.sum(u**2, axis=0)\n",
    "\n",
    "    if cumulative:\n",
    "        return np.cumsum(u * v, axis=0) / (H + 1e-9)\n",
    "    else:\n",
    "        return np.sum(u * v, axis=0) / (H + 1e-9)"
   ]
  },
  {
   "cell_type": "markdown",
   "metadata": {},
   "source": [
    "## Reverse-Time Migration\n",
    "\n",
    "In a RTM procedure, one computes the imaging condition presented in the previous section for multiples shots whose sources are at different positions. The resulting images ($I_s$) are then stacked in order to produce the final image $I$:\n",
    "\n",
    "$$\n",
    "\\begin{aligned}\n",
    "I &= \\sum_{s = 1}^{n_\\mathrm{shots}} I_s\\\\\n",
    "  &= \\sum_{s = 1}^{n_\\mathrm{shots}} \\frac{\\int_0^{t_n} u_s(x, z, t)v_s(x, z, t) dt}{\\int_0^{t_n} u_s(x, z, t)^2 dt}\n",
    "\\end{aligned}\n",
    "$$\n",
    "\n",
    "where $u_s$ is the wavefield generated by the $s$-th shot, $v_s$ is its adjoint field and $n_\\mathrm{shots}$ are the number of shots or sources."
   ]
  },
  {
   "cell_type": "code",
   "execution_count": null,
   "metadata": {},
   "outputs": [],
   "source": [
    "def img_final(model, geometry, src_depth=10., nshots=10, rec_depth=10., cumulative = False):\n",
    "    source_locations = np.empty((nshots, 2), dtype=np.float32)\n",
    "    source_locations[:, 0] = np.linspace(0., model.shape[0]*model.spacing[0],\n",
    "                                        num=nshots)\n",
    "    source_locations[:, 1] = src_depth\n",
    "\n",
    "    if cumulative:\n",
    "        imf = TimeFunction(name=\"imf\", grid=model.grid, space_order=SPACE_ORDER, time_order=TIME_ORDER, save=geometry.nt)\n",
    "    else:\n",
    "        imf = Function(name=\"imf\", grid=model.grid, space_order=SPACE_ORDER)\n",
    "\n",
    "    for i in range(nshots):\n",
    "        print('Imaging source %d out of %d' % (i+1, nshots))\n",
    "        src_pos = source_locations[i, :]\n",
    "        \n",
    "        src, rec = src_rec(model, geometry, src_pos, rec_depth, model.shape[0])\n",
    "        \n",
    "        u = forward(model, geometry, src, rec)\n",
    "        v = adjoint(model, geometry, rec)\n",
    "        imf.data[:] += imaging_condition(u.data, v.data, cumulative)\n",
    "\n",
    "    return imf"
   ]
  },
  {
   "cell_type": "code",
   "execution_count": null,
   "metadata": {},
   "outputs": [],
   "source": [
    "imf_adj = img_final(model, geometry)"
   ]
  },
  {
   "cell_type": "markdown",
   "metadata": {},
   "source": [
    "# Plotting the final image"
   ]
  },
  {
   "cell_type": "code",
   "execution_count": null,
   "metadata": {},
   "outputs": [],
   "source": [
    "def img(img, model, title=\"\"):\n",
    "    slices = [slice(model.nbl, -model.nbl), slice(model.nbl, -model.nbl)]\n",
    "\n",
    "    plt_options_model = {'cmap': 'Greys', 'extent': [model.origin[0], model.origin[0]\n",
    "                                                     + model.domain_size[0],\n",
    "                                                     model.origin[1] +\n",
    "                                                     model.domain_size[1],\n",
    "                                                     model.origin[1]]}\n",
    "    fig, ax = plt.subplots(nrows=1, ncols=1, figsize=(15, 5))\n",
    "\n",
    "    scale = np.max(img.data[slices])\n",
    "\n",
    "    img1 = ax.imshow(np.transpose(img.data[slices]), vmin=scale, vmax=-scale,\n",
    "                        **plt_options_model)\n",
    "    fig.colorbar(img1, ax=ax)\n",
    "    ax.set_title(title, fontsize=20)\n",
    "    ax.set_xlabel('z (m)', fontsize=20)\n",
    "    ax.set_ylabel('x (m)', fontsize=20)\n",
    "    ax.set_aspect('auto')"
   ]
  },
  {
   "cell_type": "code",
   "execution_count": null,
   "metadata": {},
   "outputs": [],
   "source": [
    "def lapla(model, image):\n",
    "    lapla = Function(name='lapla', grid=model.grid, space_order=SPACE_ORDER)\n",
    "    stencil = Eq(lapla, -image.laplace)\n",
    "    op = Operator([stencil])\n",
    "    op.apply()\n",
    "    return lapla"
   ]
  },
  {
   "cell_type": "code",
   "execution_count": null,
   "metadata": {},
   "outputs": [],
   "source": [
    "# Applying laplacian filter\n",
    "image_final_adj = lapla(model, imf_adj)\n",
    "\n",
    "# Zeroing the water layer\n",
    "\n",
    "imf_adj.data[:, :90] = 0.\n",
    "image_final_adj.data[:, :90] = 0.\n",
    "\n",
    "img(imf_adj, model, title=\"$I$\")\n",
    "img(image_final_adj, model, title=\"$\\\\nabla^2 I$\")"
   ]
  },
  {
   "cell_type": "markdown",
   "metadata": {},
   "source": [
    "# Imaging condition through time"
   ]
  },
  {
   "cell_type": "code",
   "execution_count": null,
   "metadata": {},
   "outputs": [],
   "source": [
    "# Save each step of the sum along the time axis\n",
    "imf_cum_adj = img_final(model, geometry, cumulative=True)"
   ]
  },
  {
   "cell_type": "code",
   "execution_count": null,
   "metadata": {},
   "outputs": [],
   "source": [
    "# Erasing the water layer\n",
    "imf_cum_adj.data[:, :, :90] = 0."
   ]
  },
  {
   "cell_type": "code",
   "execution_count": null,
   "metadata": {},
   "outputs": [],
   "source": [
    "# NBVAL_IGNORE_OUTPUT\n",
    "# Some useful definitions for plotting if nbl is set to any other value than zero\n",
    "shape_pad = np.array(SHAPE) + 2 * NBL\n",
    "origin_pad = tuple([o - s*NBL for o, s in zip(ORIGIN, SPACING)])\n",
    "extent_pad = tuple([s*(n-1) for s, n in zip(SPACING, shape_pad)])\n",
    "# Note: flip sense of second dimension to make the plot positive downwards\n",
    "plt_extent = [origin_pad[0], origin_pad[0] + extent_pad[0],\n",
    "              origin_pad[1] + extent_pad[1], origin_pad[1]]\n",
    "\n",
    "\n",
    "def plot_image_condition(a, nsnaps = 4, title=None, outfile=None):\n",
    "    # Plot the wavefields, each normalized to scaled maximum of last time step\n",
    "    kt = (time_range.num - 2) - 1\n",
    "    amax = 10 * np.max(a.data[kt, :, :])\n",
    "    amin = 10 * np.max(a.data[kt, :, :])\n",
    "\n",
    "    slc = slice(model.nbl, -model.nbl)\n",
    "    \n",
    "    nrows = int(np.ceil(nsnaps / 2))\n",
    "\n",
    "    factor = int(np.ceil(time_range.num / nsnaps)) - 1\n",
    "\n",
    "    fig, axes = plt.subplots(nrows, 2, sharex=True, figsize=(16,8*nrows))\n",
    "    fig.suptitle(title, size=20)\n",
    "\n",
    "    for count, ax in enumerate(axes.ravel()):\n",
    "        # snapshot = factor * (count + 1)\n",
    "        if count >= nsnaps:\n",
    "            break\n",
    "        snapshot = factor * (count + 1)\n",
    "        ax.imshow(np.transpose(a.data[snapshot, slc, slc]), cmap=\"Greys\", extent=plt_extent)\n",
    "        # ax.plot(model.domain_size[0] * .5, 10, 'red', linestyle='None', marker='*',\n",
    "        #         markersize=8, label=\"Source\")\n",
    "        ax.tick_params('both', length=4, width=0.5, which='major', labelsize=10)\n",
    "        ax.set_title(\"t=%.2fms\" % (factor*(count+1)*dt), fontsize=10)\n",
    "        ax.set_xlabel(\"x (m)\", fontsize=10)\n",
    "        ax.set_ylabel(\"z (m)\", fontsize=10)\n",
    "    \n",
    "    fig.tight_layout()\n",
    "\n",
    "    if outfile:\n",
    "        fig.savefig(outfile)\n",
    "\n",
    "\n",
    "plot_image_condition(imf_cum_adj, 8, outfile='imaging-condition.png')"
   ]
  },
  {
   "cell_type": "markdown",
   "metadata": {},
   "source": [
    "## Adjoint test\n",
    "\n",
    "A way to test the forward and adjoint operators is by applying the definition of an adjoint operator: let $A$ an operator over a Hilbert space $\\mathcal{H}$. The adjoint $A^T$ of $A$ is the operator satisfying\n",
    "\n",
    "$$\n",
    "\\langle Ax, y \\rangle = \\langle x, A^Ty \\rangle\n",
    "$$\n",
    "\n",
    "for every $x, y$ in $\\mathcal{H}$.\n",
    "\n",
    "<!-- the domain and every $y$ in the image of $A$. -->\n",
    "\n",
    "The space we are dealing with is the space of source and receiver signals. The domain of the `forward` operator is the space of sources, and its image is the space of receivers. Conversely, the domain of the `adjoint` operator will be the space of receivers - acting as sources -, and its image will be the space of adjoint sources - which will act as receivers at the original sources positions.\n"
   ]
  },
  {
   "cell_type": "code",
   "execution_count": null,
   "metadata": {},
   "outputs": [],
   "source": [
    "src_pos = np.array([0.5 * model.domain_size[0], 10.], dtype = DTYPE)\n",
    "rec_depth = 0.5*model.domain_size[1]\n",
    "nrec = 1\n",
    "src, rec = src_rec(model, geometry, src_pos, rec_depth, nrec)\n",
    "\n",
    "u = forward(model, geometry, src, rec)"
   ]
  },
  {
   "cell_type": "code",
   "execution_count": null,
   "metadata": {},
   "outputs": [],
   "source": [
    "src = adjoint_src(model, geometry, src_pos)\n",
    "\n",
    "v = adjoint(model, geometry, rec, src)"
   ]
  },
  {
   "cell_type": "code",
   "execution_count": null,
   "metadata": {},
   "outputs": [],
   "source": [
    "term1 = norm(rec) ** 2 # <Ax, y>\n",
    "term2 = src.data.T @ src.data # <x, A^Ty>\n",
    "\n",
    "print('<x, A*y>: %f, <Ax,y>: %f, difference: %4.4e, ratio: %f'\n",
    "      % (term1, term2, (term1 - term2)/term1, term1/term2))\n",
    "\n",
    "assert np.isclose((term1 - term2)/term1, 0., atol=np.finfo(DTYPE).resolution)"
   ]
  }
 ],
 "metadata": {
  "kernelspec": {
   "display_name": "devito",
   "language": "python",
   "name": "python3"
  },
  "language_info": {
   "codemirror_mode": {
    "name": "ipython",
    "version": 3
   },
   "file_extension": ".py",
   "mimetype": "text/x-python",
   "name": "python",
   "nbconvert_exporter": "python",
   "pygments_lexer": "ipython3",
   "version": "3.10.16"
  }
 },
 "nbformat": 4,
 "nbformat_minor": 2
}

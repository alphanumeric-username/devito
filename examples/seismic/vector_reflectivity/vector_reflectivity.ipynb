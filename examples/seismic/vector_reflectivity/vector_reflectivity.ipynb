{
 "cells": [
  {
   "cell_type": "code",
   "execution_count": 1,
   "metadata": {},
   "outputs": [
    {
     "name": "stdout",
     "output_type": "stream",
     "text": [
      "mpi4py is not available. You must install it\n"
     ]
    }
   ],
   "source": [
    "from examples.seismic import Receiver, Model\n",
    "\n",
    "from examples.seismic.acoustic import acoustic_setup\n",
    "from examples.seismic.vector_reflectivity import vector_reflectivity_setup\n",
    "from examples.seismic.variable_density import variable_density_setup\n",
    "\n",
    "import numpy as np\n",
    "\n",
    "from devito import norm, configuration, VectorTimeFunction, TimeFunction\n",
    "\n",
    "import matplotlib.pyplot as plt\n",
    "\n",
    "configuration['ignore-unknowns'] = 1"
   ]
  },
  {
   "cell_type": "code",
   "execution_count": 2,
   "metadata": {},
   "outputs": [],
   "source": [
    "nx = 200\n",
    "nz = 120\n",
    "\n",
    "shape = (nx, nz)"
   ]
  },
  {
   "cell_type": "code",
   "execution_count": null,
   "metadata": {},
   "outputs": [
    {
     "name": "stderr",
     "output_type": "stream",
     "text": [
      "Operator `initdamp` ran in 0.01 s\n",
      "Operator `Forward` ran in 0.01 s\n",
      "No source type defined, returning uninitiallized (zero) source\n",
      "Operator `Adjoint` ran in 0.01 s\n"
     ]
    },
    {
     "name": "stdout",
     "output_type": "stream",
     "text": [
      "<x, A*y>: 105311.127206, <Ax,y>: 105311.127206, difference: 0.0000e+00, ratio: 1.000000\n"
     ]
    },
    {
     "name": "stderr",
     "output_type": "stream",
     "text": [
      "/tmp/ipykernel_124395/1625754018.py:24: DeprecationWarning: Conversion of an array with ndim > 0 to a scalar is deprecated, and will error in future. Ensure you extract a single element from your array before performing this operation. (Deprecated NumPy 1.25.)\n",
      "  print('<x, A*y>: %f, <Ax,y>: %f, difference: %4.4e, ratio: %f'\n"
     ]
    }
   ],
   "source": [
    "tn = 500.  # Final time\n",
    "\n",
    "presets = {\n",
    "    'layers-elastic': {'preset': 'layers-elastic', 'nlayers': 2},\n",
    "    'layers-isotropic': {'preset': 'layers-isotropic', 'nlayers': 1},\n",
    "}\n",
    "# Create solver from preset\n",
    "solver = acoustic_setup(shape=(20, 25), spacing=[15. for _ in shape],\n",
    "                        nbl=10, tn=tn, space_order=2, time_order=1,\n",
    "                        **(presets['layers-isotropic']), dtype=np.float64)\n",
    "\n",
    "# Create adjoint receiver symbol\n",
    "srca = Receiver(name='srca', grid=solver.model.grid,\n",
    "                time_range=solver.geometry.time_axis,\n",
    "                coordinates=solver.geometry.src_positions)\n",
    "\n",
    "# Run forward and adjoint operators\n",
    "rec = solver.forward(save=False)[0]\n",
    "solver.adjoint(rec=rec, srca=srca)\n",
    "\n",
    "# Adjoint test: Verify <Ax,y> matches  <x, A^Ty> closely\n",
    "term1 = np.dot(srca.data.reshape(-1), solver.geometry.src.data)\n",
    "term2 = norm(rec) ** 2\n",
    "print('<x, A*y>: %f, <Ax,y>: %f, difference: %4.4e, ratio: %f'\n",
    "    % (term1, term2, (term1 - term2)/term1, term1/term2))\n",
    "\n",
    "\n",
    "assert np.isclose((term1 - term2)/term1, 0., atol=1.e-11)"
   ]
  },
  {
   "cell_type": "code",
   "execution_count": null,
   "metadata": {},
   "outputs": [
    {
     "data": {
      "text/latex": [
       "$\\displaystyle \\left[\\begin{matrix}\\frac{\\frac{\\partial}{\\partial x} 0.5 vp(x, y)}{vp(x, y)}\\\\\\frac{\\frac{\\partial}{\\partial y} 0.5 vp(x, y)}{vp(x, y)}\\end{matrix}\\right]$"
      ],
      "text/plain": [
       "Vector(Derivative(0.5*vp(x, y), x)/vp(x, y), Derivative(0.5*vp(x, y), y)/vp(x, y))"
      ]
     },
     "execution_count": 5,
     "metadata": {},
     "output_type": "execute_result"
    }
   ],
   "source": [
    "solver.model.r"
   ]
  },
  {
   "cell_type": "code",
   "execution_count": null,
   "metadata": {},
   "outputs": [
    {
     "name": "stderr",
     "output_type": "stream",
     "text": [
      "Operator `initdamp` ran in 0.01 s\n",
      "Operator `Forward` ran in 0.01 s\n",
      "No source type defined, returning uninitiallized (zero) source\n",
      "Operator `Adjoint` ran in 0.01 s\n"
     ]
    },
    {
     "name": "stdout",
     "output_type": "stream",
     "text": [
      "<x, A*y>: 105311.127206, <Ax,y>: 105311.127206, difference: 1.3818e-16, ratio: 1.000000\n"
     ]
    },
    {
     "name": "stderr",
     "output_type": "stream",
     "text": [
      "/tmp/ipykernel_124395/1187217452.py:23: DeprecationWarning: Conversion of an array with ndim > 0 to a scalar is deprecated, and will error in future. Ensure you extract a single element from your array before performing this operation. (Deprecated NumPy 1.25.)\n",
      "  print('<x, A*y>: %f, <Ax,y>: %f, difference: %4.4e, ratio: %f'\n"
     ]
    }
   ],
   "source": [
    "tn = 500.  # Final time\n",
    "\n",
    "presets = {\n",
    "    'layers-elastic': {'preset': 'layers-elastic', 'nlayers': 2},\n",
    "    'layers-isotropic': {'preset': 'layers-isotropic', 'nlayers': 1},\n",
    "}\n",
    "solver = vector_reflectivity_setup(shape=(20, 25), spacing=[15. for _ in shape],\n",
    "                        nbl=10, tn=tn, space_order=2, time_order=1,\n",
    "                        **(presets['layers-isotropic']), dtype=np.float64, f0=0.010)#, density=True)\n",
    "\n",
    "# Create adjoint receiver symbol\n",
    "srca = Receiver(name='srca', grid=solver.model.grid,\n",
    "                time_range=solver.geometry.time_axis,\n",
    "                coordinates=solver.geometry.src_positions)\n",
    "\n",
    "# Run forward and adjoint operators\n",
    "rec = solver.forward(save=False)[0]\n",
    "solver.adjoint(rec=rec, srca=srca)\n",
    "\n",
    "# Adjoint test: Verify <Ax,y> matches  <x, A^Ty> closely\n",
    "term1 = np.dot(srca.data.reshape(-1), solver.geometry.src.data)\n",
    "term2 = norm(rec) ** 2\n",
    "print('<x, A*y>: %f, <Ax,y>: %f, difference: %4.4e, ratio: %f'\n",
    "    % (term1, term2, (term1 - term2)/term1, term1/term2))\n",
    "\n",
    "\n",
    "assert np.isclose((term1 - term2)/term1, 0., atol=1.e-11)"
   ]
  },
  {
   "cell_type": "code",
   "execution_count": null,
   "metadata": {},
   "outputs": [
    {
     "name": "stderr",
     "output_type": "stream",
     "text": [
      "Operator `initdamp` ran in 0.01 s\n",
      "Operator `Forward` ran in 0.01 s\n",
      "No source type defined, returning uninitiallized (zero) source\n",
      "Operator `Adjoint` ran in 0.01 s\n",
      "/tmp/ipykernel_214599/954367938.py:23: DeprecationWarning: Conversion of an array with ndim > 0 to a scalar is deprecated, and will error in future. Ensure you extract a single element from your array before performing this operation. (Deprecated NumPy 1.25.)\n",
      "  print('<x, A*y>: %f, <Ax,y>: %f, difference: %4.4e, ratio: %f'\n"
     ]
    },
    {
     "name": "stdout",
     "output_type": "stream",
     "text": [
      "<x, A*y>: 93520.648318, <Ax,y>: 100882.699722, difference: -7.8721e-02, ratio: 0.927024\n"
     ]
    },
    {
     "ename": "AssertionError",
     "evalue": "",
     "output_type": "error",
     "traceback": [
      "\u001b[0;31m---------------------------------------------------------------------------\u001b[0m",
      "\u001b[0;31mAssertionError\u001b[0m                            Traceback (most recent call last)",
      "Cell \u001b[0;32mIn[3], line 27\u001b[0m\n\u001b[1;32m     22\u001b[0m term2 \u001b[38;5;241m=\u001b[39m norm(rec) \u001b[38;5;241m*\u001b[39m\u001b[38;5;241m*\u001b[39m \u001b[38;5;241m2\u001b[39m\n\u001b[1;32m     23\u001b[0m \u001b[38;5;28mprint\u001b[39m(\u001b[38;5;124m'\u001b[39m\u001b[38;5;124m<x, A*y>: \u001b[39m\u001b[38;5;132;01m%f\u001b[39;00m\u001b[38;5;124m, <Ax,y>: \u001b[39m\u001b[38;5;132;01m%f\u001b[39;00m\u001b[38;5;124m, difference: \u001b[39m\u001b[38;5;132;01m%4.4e\u001b[39;00m\u001b[38;5;124m, ratio: \u001b[39m\u001b[38;5;132;01m%f\u001b[39;00m\u001b[38;5;124m'\u001b[39m\n\u001b[1;32m     24\u001b[0m     \u001b[38;5;241m%\u001b[39m (term1, term2, (term1 \u001b[38;5;241m-\u001b[39m term2)\u001b[38;5;241m/\u001b[39mterm1, term1\u001b[38;5;241m/\u001b[39mterm2))\n\u001b[0;32m---> 27\u001b[0m \u001b[38;5;28;01massert\u001b[39;00m np\u001b[38;5;241m.\u001b[39misclose((term1 \u001b[38;5;241m-\u001b[39m term2)\u001b[38;5;241m/\u001b[39mterm1, \u001b[38;5;241m0.\u001b[39m, atol\u001b[38;5;241m=\u001b[39m\u001b[38;5;241m1.e-11\u001b[39m)\n",
      "\u001b[0;31mAssertionError\u001b[0m: "
     ]
    }
   ],
   "source": [
    "tn = 500.  # Final time\n",
    "\n",
    "presets = {\n",
    "    'layers-elastic': {'preset': 'layers-elastic', 'nlayers': 2},\n",
    "    'layers-isotropic': {'preset': 'layers-isotropic', 'nlayers': 1},\n",
    "}\n",
    "solver = variable_density_setup(shape=(20, 25), spacing=[15. for _ in shape],\n",
    "                        nbl=10, tn=tn, space_order=2, time_order=1,\n",
    "                        **(presets['layers-isotropic']), dtype=np.float64, f0=0.010, density=True)\n",
    "\n",
    "# Create adjoint receiver symbol\n",
    "srca = Receiver(name='srca', grid=solver.model.grid,\n",
    "                time_range=solver.geometry.time_axis,\n",
    "                coordinates=solver.geometry.src_positions)\n",
    "\n",
    "# Run forward and adjoint operators\n",
    "rec = solver.forward(save=False)[0]\n",
    "solver.adjoint(rec=rec, srca=srca)\n",
    "\n",
    "# Adjoint test: Verify <Ax,y> matches  <x, A^Ty> closely\n",
    "term1 = np.dot(srca.data.reshape(-1), solver.geometry.src.data)\n",
    "term2 = norm(rec) ** 2\n",
    "print('<x, A*y>: %f, <Ax,y>: %f, difference: %4.4e, ratio: %f'\n",
    "    % (term1, term2, (term1 - term2)/term1, term1/term2))\n",
    "\n",
    "\n",
    "assert np.isclose((term1 - term2)/term1, 0., atol=1.e-11)"
   ]
  },
  {
   "cell_type": "markdown",
   "metadata": {},
   "source": [
    "### Wavefield record"
   ]
  },
  {
   "cell_type": "code",
   "execution_count": null,
   "metadata": {},
   "outputs": [
    {
     "name": "stderr",
     "output_type": "stream",
     "text": [
      "Operator `initdamp` ran in 0.01 s\n",
      "Operator `Forward` ran in 0.01 s\n",
      "No source type defined, returning uninitiallized (zero) source\n",
      "No source type defined, returning uninitiallized (zero) source\n",
      "Operator `Adjoint` ran in 0.01 s\n"
     ]
    },
    {
     "data": {
      "text/plain": [
       "(212, (212, 20, 25))"
      ]
     },
     "execution_count": 3,
     "metadata": {},
     "output_type": "execute_result"
    }
   ],
   "source": [
    "tn = 500.  # Final time\n",
    "\n",
    "presets = {\n",
    "    'layers-isotropic': {'preset': 'layers-isotropic', 'nlayers': 2},\n",
    "}\n",
    "\n",
    "solver = vector_reflectivity_setup(shape=(20, 25), spacing=[15. for _ in shape],\n",
    "                        nbl=10, tn=tn, space_order=4, time_order=1,\n",
    "                        **(presets['layers-isotropic']), dtype=np.float64)#, density=True)\n",
    "# solver = acoustic_setup(shape=(20, 25), spacing=[15. for _ in shape],\n",
    "#                         nbl=10, tn=tn, space_order=4, time_order=1,\n",
    "#                         **(presets['layers-isotropic']), dtype=np.float64, density=True)\n",
    "\n",
    "# # Create adjoint receiver symbol\n",
    "# srca = Receiver(name='srca', grid=solver.model.grid,\n",
    "#                 time_range=solver.geometry.time_axis,\n",
    "#                 coordinates=solver.geometry.src_positions)\n",
    "\n",
    "# u = TimeFunction(name='u', space_order=solver.model.space_order, grid=solver.model.grid, time_order=2, save=solver.geometry.nt)\n",
    "\n",
    "# Run forward and adjoint operators\n",
    "rec, u, _ = solver.forward(save=True)\n",
    "v = solver.adjoint(save=True, rec=rec)[1]\n",
    "# solver.adjoint(rec=rec, srca=srca)\n",
    "\n",
    "nbl = 10\n",
    "solver.geometry.nt, u.data[:, nbl:-nbl, nbl:-nbl].shape"
   ]
  },
  {
   "cell_type": "code",
   "execution_count": null,
   "metadata": {},
   "outputs": [
    {
     "data": {
      "text/plain": [
       "<matplotlib.image.AxesImage at 0x7ff75fa112a0>"
      ]
     },
     "execution_count": 4,
     "metadata": {},
     "output_type": "execute_result"
    },
    {
     "data": {
      "image/png": "[encoded data removed]",
      "text/plain": [
       "<Figure size 800x600 with 1 Axes>"
      ]
     },
     "metadata": {},
     "output_type": "display_data"
    }
   ],
   "source": [
    "# for i in range(solver.geometry.nt):\n",
    "plt.imshow(u.data[0, nbl:-nbl, nbl:-nbl])"
   ]
  },
  {
   "cell_type": "code",
   "execution_count": null,
   "metadata": {},
   "outputs": [],
   "source": [
    "u.data[:, nbl:-nbl, nbl:-nbl].tofile('vr-forward.bin')\n",
    "v.data[:, nbl:-nbl, nbl:-nbl].tofile('vr-adjoint.bin')"
   ]
  },
  {
   "cell_type": "code",
   "execution_count": null,
   "metadata": {},
   "outputs": [
    {
     "data": {
      "text/plain": [
       "Data([[[ -1.74638323,  -3.49111168,  -4.91335433, ...,  -0.71105501,\n",
       "         -0.52439868,  -0.27084729],\n",
       "       [ -3.53160094,  -6.98011224,  -9.66414225, ...,  -1.38228644,\n",
       "         -1.00719063,  -0.51941015],\n",
       "       [ -5.08887018,  -9.89694037, -13.38441904, ...,  -1.93478617,\n",
       "         -1.35668999,  -0.69112817],\n",
       "       ...,\n",
       "       [ -5.08887018,  -9.89694037, -13.38441904, ...,  -1.93478617,\n",
       "         -1.35668999,  -0.69112817],\n",
       "       [ -3.53160094,  -6.98011224,  -9.66414225, ...,  -1.38228644,\n",
       "         -1.00719063,  -0.51941015],\n",
       "       [ -1.74638323,  -3.49111168,  -4.91335433, ...,  -0.71105501,\n",
       "         -0.52439868,  -0.27084729]],\n",
       "\n",
       "      [[ -1.75617251,  -3.52584692,  -4.99424853, ...,  -0.72606491,\n",
       "         -0.5364613 ,  -0.27693585],\n",
       "       [ -3.56513023,  -7.07131834,  -9.84173988, ...,  -1.40442028,\n",
       "         -1.02903225,  -0.53144615],\n",
       "       [ -5.16624177, -10.07044472, -13.66438209, ...,  -1.94282455,\n",
       "         -1.37869831,  -0.70603701],\n",
       "       ...,\n",
       "       [ -5.16624177, -10.07044472, -13.66438209, ...,  -1.94282455,\n",
       "         -1.37869831,  -0.70603701],\n",
       "       [ -3.56513023,  -7.07131834,  -9.84173988, ...,  -1.40442028,\n",
       "         -1.02903225,  -0.53144615],\n",
       "       [ -1.75617251,  -3.52584692,  -4.99424853, ...,  -0.72606491,\n",
       "         -0.5364613 ,  -0.27693585]],\n",
       "\n",
       "      [[ -1.76347065,  -3.55655704,  -5.07194438, ...,  -0.74227547,\n",
       "         -0.54884385,  -0.28302178],\n",
       "       [ -3.5944668 ,  -7.15641392, -10.01591534, ...,  -1.42959488,\n",
       "         -1.05209942,  -0.54380178],\n",
       "       [ -5.24001883, -10.24003518, -13.94532218, ...,  -1.95650918,\n",
       "         -1.4037456 ,  -0.72214349],\n",
       "       ...,\n",
       "       [ -5.24001883, -10.24003518, -13.94532218, ...,  -1.95650918,\n",
       "         -1.4037456 ,  -0.72214349],\n",
       "       [ -3.5944668 ,  -7.15641392, -10.01591534, ...,  -1.42959488,\n",
       "         -1.05209942,  -0.54380178],\n",
       "       [ -1.76347065,  -3.55655704,  -5.07194438, ...,  -0.74227547,\n",
       "         -0.54884385,  -0.28302178]]])"
      ]
     },
     "execution_count": 19,
     "metadata": {},
     "output_type": "execute_result"
    }
   ],
   "source": [
    "v.data[:,:,:]"
   ]
  }
 ],
 "metadata": {
  "kernelspec": {
   "display_name": "devito",
   "language": "python",
   "name": "python3"
  },
  "language_info": {
   "codemirror_mode": {
    "name": "ipython",
    "version": 3
   },
   "file_extension": ".py",
   "mimetype": "text/x-python",
   "name": "python",
   "nbconvert_exporter": "python",
   "pygments_lexer": "ipython3",
   "version": "3.10.16"
  }
 },
 "nbformat": 4,
 "nbformat_minor": 2
}

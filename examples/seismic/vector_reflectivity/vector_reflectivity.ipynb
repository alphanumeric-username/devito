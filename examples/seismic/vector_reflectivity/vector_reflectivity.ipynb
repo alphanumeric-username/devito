{
 "cells": [
  {
   "cell_type": "code",
   "execution_count": 1,
   "metadata": {},
   "outputs": [],
   "source": [
    "from examples.seismic import Receiver, Model\n",
    "\n",
    "from examples.seismic.acoustic import acoustic_setup\n",
    "from examples.seismic.vector_reflectivity import vector_reflectivity_setup\n",
    "\n",
    "import numpy as np\n",
    "\n",
    "from devito import norm"
   ]
  },
  {
   "cell_type": "code",
   "execution_count": 2,
   "metadata": {},
   "outputs": [],
   "source": [
    "nx = 200\n",
    "nz = 120\n",
    "\n",
    "shape = (nx, nz)"
   ]
  },
  {
   "cell_type": "code",
   "execution_count": 3,
   "metadata": {},
   "outputs": [
    {
     "name": "stderr",
     "output_type": "stream",
     "text": [
      "Operator `initdamp` ran in 0.01 s\n",
      "Operator `Forward` ran in 0.01 s\n",
      "No source type defined, returning uninitiallized (zero) source\n",
      "Operator `Adjoint` ran in 0.01 s\n",
      "/tmp/ipykernel_19326/2762868582.py:27: DeprecationWarning: Conversion of an array with ndim > 0 to a scalar is deprecated, and will error in future. Ensure you extract a single element from your array before performing this operation. (Deprecated NumPy 1.25.)\n",
      "  print('<x, A*y>: %f, <Ax,y>: %f, difference: %4.4e, ratio: %f'\n"
     ]
    },
    {
     "name": "stdout",
     "output_type": "stream",
     "text": [
      "<x, A*y>: -1105494095007296645485617496210985580778167111113506816.000000, <Ax,y>: 10477719834958476.000000, difference: 1.0000e+00, ratio: -105509033684873078448465258994156437504.000000\n"
     ]
    },
    {
     "ename": "AssertionError",
     "evalue": "",
     "output_type": "error",
     "traceback": [
      "\u001b[0;31m---------------------------------------------------------------------------\u001b[0m",
      "\u001b[0;31mAssertionError\u001b[0m                            Traceback (most recent call last)",
      "Cell \u001b[0;32mIn[3], line 31\u001b[0m\n\u001b[1;32m     26\u001b[0m term2 \u001b[38;5;241m=\u001b[39m norm(rec) \u001b[38;5;241m*\u001b[39m\u001b[38;5;241m*\u001b[39m \u001b[38;5;241m2\u001b[39m\n\u001b[1;32m     27\u001b[0m \u001b[38;5;28mprint\u001b[39m(\u001b[38;5;124m'\u001b[39m\u001b[38;5;124m<x, A*y>: \u001b[39m\u001b[38;5;132;01m%f\u001b[39;00m\u001b[38;5;124m, <Ax,y>: \u001b[39m\u001b[38;5;132;01m%f\u001b[39;00m\u001b[38;5;124m, difference: \u001b[39m\u001b[38;5;132;01m%4.4e\u001b[39;00m\u001b[38;5;124m, ratio: \u001b[39m\u001b[38;5;132;01m%f\u001b[39;00m\u001b[38;5;124m'\u001b[39m\n\u001b[1;32m     28\u001b[0m     \u001b[38;5;241m%\u001b[39m (term1, term2, (term1 \u001b[38;5;241m-\u001b[39m term2)\u001b[38;5;241m/\u001b[39mterm1, term1\u001b[38;5;241m/\u001b[39mterm2))\n\u001b[0;32m---> 31\u001b[0m \u001b[38;5;28;01massert\u001b[39;00m np\u001b[38;5;241m.\u001b[39misclose((term1 \u001b[38;5;241m-\u001b[39m term2)\u001b[38;5;241m/\u001b[39mterm1, \u001b[38;5;241m0.\u001b[39m, atol\u001b[38;5;241m=\u001b[39m\u001b[38;5;241m1.e-11\u001b[39m)\n",
      "\u001b[0;31mAssertionError\u001b[0m: "
     ]
    }
   ],
   "source": [
    "tn = 500.  # Final time\n",
    "\n",
    "presets = {\n",
    "    'layers-elastic': {'preset': 'layers-elastic', 'nlayers': 2},\n",
    "    'layers-isotropic': {'preset': 'layers-isotropic', 'nlayers': 2},\n",
    "}\n",
    "# Create solver from preset\n",
    "# solver = acoustic_setup(shape=(20, 25), spacing=[15. for _ in shape],\n",
    "#                         nbl=10, tn=tn, space_order=2, time_order=1,\n",
    "#                         **(presets['layers-isotropic']), dtype=np.float64)\n",
    "solver = vector_reflectivity_setup(shape=(20, 25), spacing=[15. for _ in shape],\n",
    "                        nbl=10, tn=tn, space_order=2, time_order=1,\n",
    "                        **(presets['layers-isotropic']), dtype=np.float64, density=True)\n",
    "\n",
    "# Create adjoint receiver symbol\n",
    "srca = Receiver(name='srca', grid=solver.model.grid,\n",
    "                time_range=solver.geometry.time_axis,\n",
    "                coordinates=solver.geometry.src_positions)\n",
    "\n",
    "# Run forward and adjoint operators\n",
    "rec = solver.forward(save=False)[0]\n",
    "solver.adjoint(rec=rec, srca=srca)\n",
    "\n",
    "# Adjoint test: Verify <Ax,y> matches  <x, A^Ty> closely\n",
    "term1 = np.dot(srca.data.reshape(-1), solver.geometry.src.data)\n",
    "term2 = norm(rec) ** 2\n",
    "print('<x, A*y>: %f, <Ax,y>: %f, difference: %4.4e, ratio: %f'\n",
    "    % (term1, term2, (term1 - term2)/term1, term1/term2))\n",
    "\n",
    "\n",
    "assert np.isclose((term1 - term2)/term1, 0., atol=1.e-11)"
   ]
  }
 ],
 "metadata": {
  "kernelspec": {
   "display_name": "devito-filipe",
   "language": "python",
   "name": "python3"
  },
  "language_info": {
   "codemirror_mode": {
    "name": "ipython",
    "version": 3
   },
   "file_extension": ".py",
   "mimetype": "text/x-python",
   "name": "python",
   "nbconvert_exporter": "python",
   "pygments_lexer": "ipython3",
   "version": "3.10.13"
  }
 },
 "nbformat": 4,
 "nbformat_minor": 2
}

{
 "cells": [
  {
   "cell_type": "markdown",
   "metadata": {},
   "source": [
    "# `VectorFunction` initialization"
   ]
  },
  {
   "cell_type": "code",
   "execution_count": 4,
   "metadata": {},
   "outputs": [],
   "source": [
    "from devito import *\n",
    "\n",
    "import numpy as np\n",
    "from sympy.utilities.exceptions import ignore_warnings, SymPyDeprecationWarning"
   ]
  },
  {
   "cell_type": "code",
   "execution_count": 95,
   "metadata": {},
   "outputs": [],
   "source": [
    "\n",
    "shape = (11, 11)\n",
    "space_order=1\n",
    "\n",
    "grid = Grid(shape, extent=(1, 1), origin=(0.,0.))\n",
    "\n",
    "d1 = np.random.random(shape)\n",
    "d2 = np.zeros(shape)\n",
    "d2[5, :] = 1\n",
    "\n",
    "vec_funcx = Function(name='F_x', grid=grid, space_order=space_order\n",
    "    , staggered=NODE)\n",
    "vec_funcx.data[:] = d1\n",
    "vec_funcz = Function(name='F_z', grid=grid, space_order=space_order\n",
    "    , staggered=NODE)\n",
    "vec_funcz.data[:] = d2\n",
    "vec_func = VectorFunction(name='F', grid=grid, space_order=space_order, \n",
    "                          components=[vec_funcx, vec_funcz])"
   ]
  },
  {
   "cell_type": "code",
   "execution_count": 84,
   "metadata": {},
   "outputs": [
    {
     "data": {
      "text/plain": [
       "Data([[0., 0., 0., 0., 0., 0., 0., 0., 0., 0., 0.],\n",
       "      [0., 0., 0., 0., 0., 0., 0., 0., 0., 0., 0.],\n",
       "      [0., 0., 0., 0., 0., 0., 0., 0., 0., 0., 0.],\n",
       "      [0., 0., 0., 0., 0., 0., 0., 0., 0., 0., 0.],\n",
       "      [0., 0., 0., 0., 0., 0., 0., 0., 0., 0., 0.],\n",
       "      [1., 1., 1., 1., 1., 1., 1., 1., 1., 1., 1.],\n",
       "      [0., 0., 0., 0., 0., 0., 0., 0., 0., 0., 0.],\n",
       "      [0., 0., 0., 0., 0., 0., 0., 0., 0., 0., 0.],\n",
       "      [0., 0., 0., 0., 0., 0., 0., 0., 0., 0., 0.],\n",
       "      [0., 0., 0., 0., 0., 0., 0., 0., 0., 0., 0.],\n",
       "      [0., 0., 0., 0., 0., 0., 0., 0., 0., 0., 0.]], dtype=float32)"
      ]
     },
     "execution_count": 84,
     "metadata": {},
     "output_type": "execute_result"
    }
   ],
   "source": [
    "vec_func[1].data"
   ]
  },
  {
   "cell_type": "code",
   "execution_count": 85,
   "metadata": {},
   "outputs": [],
   "source": [
    "func = Function(name='func', grid=grid, space_order=1)\n",
    "func.data[:] = np.ones(shape)"
   ]
  },
  {
   "cell_type": "code",
   "execution_count": 97,
   "metadata": {},
   "outputs": [
    {
     "name": "stderr",
     "output_type": "stream",
     "text": [
      "Operator `Kernel` ran in 0.01 s\n"
     ]
    },
    {
     "data": {
      "text/plain": [
       "Data([[   0.,    0.,    0.,    0.,    0.,    0.,    0.,    0.,    0.,\n",
       "          0.,    0.],\n",
       "      [   0.,    0.,    0.,    0.,    0.,    0.,    0.,    0.,    0.,\n",
       "          0.,    0.],\n",
       "      [   0.,    0.,    0.,    0.,    0.,    0.,    0.,    0.,    0.,\n",
       "          0.,    0.],\n",
       "      [   0.,    0.,    0.,    0.,    0.,    0.,    0.,    0.,    0.,\n",
       "          0.,    0.],\n",
       "      [   0.,    0.,    0.,    0.,    0.,    0.,    0.,    0.,    0.,\n",
       "          0.,    0.],\n",
       "      [   0.,    0.,  100.,  100.,  100.,  100.,  100.,  100.,  100.,\n",
       "        100.,    0.],\n",
       "      [   0., -200., -200., -200., -200., -200., -200., -200., -200.,\n",
       "       -200.,    0.],\n",
       "      [   0.,  100.,  100.,  100.,  100.,  100.,  100.,  100.,  100.,\n",
       "        100.,    0.],\n",
       "      [   0.,    0.,    0.,    0.,    0.,    0.,    0.,    0.,    0.,\n",
       "          0.,    0.],\n",
       "      [   0.,    0.,    0.,    0.,    0.,    0.,    0.,    0.,    0.,\n",
       "          0.,    0.],\n",
       "      [   0.,    0.,    0.,    0.,    0.,    0.,    0.,    0.,    0.,\n",
       "          0.,    0.]], dtype=float32)"
      ]
     },
     "execution_count": 97,
     "metadata": {},
     "output_type": "execute_result"
    }
   ],
   "source": [
    "dxvec_funcz = Function(name='dxF_z', grid=grid, space_order=1)\n",
    "\n",
    "Operator(Eq(dxvec_funcz, div(grad(vec_funcz))))()\n",
    "dxvec_funcz.data\n"
   ]
  },
  {
   "cell_type": "code",
   "execution_count": 88,
   "metadata": {},
   "outputs": [
    {
     "name": "stderr",
     "output_type": "stream",
     "text": [
      "Operator `Kernel` ran in 0.01 s\n"
     ]
    },
    {
     "data": {
      "text/plain": [
       "Data([[  0.,   0.,   0.,   0.,   0.,   0.,   0.,   0.,   0.,   0.,   0.],\n",
       "      [  0.,   0.,   0.,   0.,   0.,   0.,   0.,   0.,   0.,   0.,   0.],\n",
       "      [  0.,   0.,   0.,   0.,   0.,   0.,   0.,   0.,   0.,   0.,   0.],\n",
       "      [  0.,   0.,   0.,   0.,   0.,   0.,   0.,   0.,   0.,   0.,   0.],\n",
       "      [  0.,   0.,   0.,   0.,   0.,   0.,   0.,   0.,   0.,   0.,   0.],\n",
       "      [ 10.,  10.,  10.,  10.,  10.,  10.,  10.,  10.,  10.,  10.,  10.],\n",
       "      [-10., -10., -10., -10., -10., -10., -10., -10., -10., -10., -10.],\n",
       "      [  0.,   0.,   0.,   0.,   0.,   0.,   0.,   0.,   0.,   0.,   0.],\n",
       "      [  0.,   0.,   0.,   0.,   0.,   0.,   0.,   0.,   0.,   0.,   0.],\n",
       "      [  0.,   0.,   0.,   0.,   0.,   0.,   0.,   0.,   0.,   0.,   0.],\n",
       "      [  0.,   0.,   0.,   0.,   0.,   0.,   0.,   0.,   0.,   0.,   0.]],\n",
       "     dtype=float32)"
      ]
     },
     "execution_count": 88,
     "metadata": {},
     "output_type": "execute_result"
    }
   ],
   "source": [
    "res = Function(name='res', grid=grid, space_order=1)\n",
    "\n",
    "Operator(Eq(res, func * dxvec_funcz))()\n",
    "\n",
    "res.data"
   ]
  }
 ],
 "metadata": {
  "kernelspec": {
   "display_name": "devito-filipe",
   "language": "python",
   "name": "python3"
  },
  "language_info": {
   "codemirror_mode": {
    "name": "ipython",
    "version": 3
   },
   "file_extension": ".py",
   "mimetype": "text/x-python",
   "name": "python",
   "nbconvert_exporter": "python",
   "pygments_lexer": "ipython3",
   "version": "3.10.13"
  }
 },
 "nbformat": 4,
 "nbformat_minor": 2
}

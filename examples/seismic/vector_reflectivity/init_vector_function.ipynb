{
 "cells": [
  {
   "cell_type": "markdown",
   "metadata": {},
   "source": [
    "# `VectorFunction` initialization"
   ]
  },
  {
   "cell_type": "code",
   "execution_count": null,
   "metadata": {},
   "outputs": [
    {
     "data": {
      "text/plain": [
       "<contextlib._GeneratorContextManager at 0x758ed976ad10>"
      ]
     },
     "execution_count": 10,
     "metadata": {},
     "output_type": "execute_result"
    }
   ],
   "source": [
    "from devito import VectorFunction, Grid, Function, grad\n",
    "\n",
    "import numpy as np\n",
    "from sympy.utilities.exceptions import ignore_warnings, SymPyDeprecationWarning"
   ]
  },
  {
   "cell_type": "code",
   "execution_count": null,
   "metadata": {},
   "outputs": [],
   "source": [
    "\n",
    "shape = (5, 5)\n",
    "\n",
    "grid = Grid(shape, extent=(1, 1), origin=(0.,0.))\n",
    "\n",
    "d1 = np.random.random(shape)\n",
    "d2 = np.ones(shape)\n",
    "\n",
    "vec_funcx = Function(name='F_x', grid=grid, space_order=2)\n",
    "vec_funcx.data[:] = d1\n",
    "vec_funcz = Function(name='F_z', grid=grid, space_order=2)\n",
    "vec_funcz.data[:] = d2\n",
    "vec_func = VectorFunction(name='F', grid=grid, space_order=2, \n",
    "                          components=[vec_funcx, vec_funcz])"
   ]
  },
  {
   "cell_type": "code",
   "execution_count": 21,
   "metadata": {},
   "outputs": [
    {
     "data": {
      "text/latex": [
       "$\\displaystyle \\left[\\begin{matrix}F_x(x, y)\\\\F_z(x, y)\\end{matrix}\\right]$"
      ],
      "text/plain": [
       "Vector(F_x(x, y), F_z(x, y))"
      ]
     },
     "execution_count": 21,
     "metadata": {},
     "output_type": "execute_result"
    }
   ],
   "source": [
    "vec_func"
   ]
  },
  {
   "cell_type": "code",
   "execution_count": 37,
   "metadata": {},
   "outputs": [
    {
     "data": {
      "text/plain": [
       "(Data([[0.70692456, 0.13437973, 0.48298958, 0.671366  , 0.6571139 ],\n",
       "       [0.9966513 , 0.8240971 , 0.91020244, 0.23202847, 0.14989372],\n",
       "       [0.34850046, 0.39540866, 0.1633052 , 0.9899507 , 0.6194736 ],\n",
       "       [0.8877157 , 0.28427973, 0.8005978 , 0.963024  , 0.7692613 ],\n",
       "       [0.39138925, 0.8632433 , 0.35020995, 0.04439087, 0.763136  ]],\n",
       "      dtype=float32),\n",
       " Data([[1., 1., 1., 1., 1.],\n",
       "       [1., 1., 1., 1., 1.],\n",
       "       [1., 1., 1., 1., 1.],\n",
       "       [1., 1., 1., 1., 1.],\n",
       "       [1., 1., 1., 1., 1.]], dtype=float32))"
      ]
     },
     "execution_count": 37,
     "metadata": {},
     "output_type": "execute_result"
    }
   ],
   "source": [
    "vec_func[0].data, vec_func[1].data"
   ]
  },
  {
   "cell_type": "code",
   "execution_count": 6,
   "metadata": {},
   "outputs": [
    {
     "data": {
      "text/latex": [
       "$\\displaystyle \\left[\\begin{matrix}\\frac{\\partial}{\\partial x} func(x, y)\\\\\\frac{\\partial}{\\partial y} func(x, y)\\end{matrix}\\right]$"
      ],
      "text/plain": [
       "Vector(Derivative(func(x, y), x), Derivative(func(x, y), y))"
      ]
     },
     "execution_count": 6,
     "metadata": {},
     "output_type": "execute_result"
    }
   ],
   "source": [
    "func = Function(name='func', grid=grid, space_order=2)\n",
    "grad(func)"
   ]
  }
 ],
 "metadata": {
  "kernelspec": {
   "display_name": "devito-filipe",
   "language": "python",
   "name": "python3"
  },
  "language_info": {
   "codemirror_mode": {
    "name": "ipython",
    "version": 3
   },
   "file_extension": ".py",
   "mimetype": "text/x-python",
   "name": "python",
   "nbconvert_exporter": "python",
   "pygments_lexer": "ipython3",
   "version": "3.10.13"
  }
 },
 "nbformat": 4,
 "nbformat_minor": 2
}

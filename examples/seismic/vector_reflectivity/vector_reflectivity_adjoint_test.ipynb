{
 "cells": [
  {
   "cell_type": "code",
   "execution_count": 10,
   "metadata": {},
   "outputs": [],
   "source": [
    "from examples.seismic import Receiver, Model\n",
    "\n",
    "from examples.seismic.acoustic import acoustic_setup\n",
    "from examples.seismic.vector_reflectivity import vector_reflectivity_setup\n",
    "from examples.seismic.variable_density import variable_density_setup\n",
    "\n",
    "import numpy as np\n",
    "\n",
    "from devito import norm, configuration, VectorTimeFunction, TimeFunction\n",
    "\n",
    "import matplotlib.pyplot as plt\n",
    "from sympy import init_printing, latex\n",
    "from IPython.display import Latex, Markdown\n",
    "\n",
    "configuration['ignore-unknowns'] = 1"
   ]
  },
  {
   "cell_type": "code",
   "execution_count": 11,
   "metadata": {},
   "outputs": [],
   "source": [
    "init_printing(scale=2, fontsize='12pt')"
   ]
  },
  {
   "cell_type": "code",
   "execution_count": 12,
   "metadata": {},
   "outputs": [],
   "source": [
    "nx = 20\n",
    "nz = 25\n",
    "\n",
    "shape = (nx, nz)\n",
    "\n",
    "presets = {\n",
    "    'layers-viscoacoustic': {'preset': 'layers-viscoacoustic', 'nlayers': 2, 'shape': shape},\n",
    "    'layers-isotropic': {'preset': 'layers-isotropic', 'nlayers': 2, 'shape': shape},\n",
    "    'layers-isotropic-constant-density': {'preset': 'layers-isotropic', 'nlayers': 2, 'shape': shape, 'b': np.ones(shape)},\n",
    "}"
   ]
  },
  {
   "cell_type": "markdown",
   "metadata": {},
   "source": [
    "### Acoustic"
   ]
  },
  {
   "cell_type": "code",
   "execution_count": 13,
   "metadata": {},
   "outputs": [
    {
     "name": "stderr",
     "output_type": "stream",
     "text": [
      "Operator `initdamp` ran in 0.01 s\n",
      "Operator `Forward` ran in 0.01 s\n",
      "No source type defined, returning uninitiallized (zero) source\n",
      "Operator `Adjoint` ran in 0.01 s\n"
     ]
    },
    {
     "name": "stdout",
     "output_type": "stream",
     "text": [
      "<x, A*y>: 272611.466153, <Ax,y>: 272611.466153, difference: -2.1352e-16, ratio: 1.000000\n"
     ]
    },
    {
     "name": "stderr",
     "output_type": "stream",
     "text": [
      "/tmp/ipykernel_16146/540016980.py:20: DeprecationWarning: Conversion of an array with ndim > 0 to a scalar is deprecated, and will error in future. Ensure you extract a single element from your array before performing this operation. (Deprecated NumPy 1.25.)\n",
      "  print('<x, A*y>: %f, <Ax,y>: %f, difference: %4.4e, ratio: %f'\n"
     ]
    }
   ],
   "source": [
    "tn = 500.  # Final time\n",
    "\n",
    "# Create solver from preset\n",
    "solver = acoustic_setup(spacing=[15. for _ in shape],\n",
    "                        nbl=10, tn=tn, space_order=2, time_order=1,\n",
    "                        **(presets['layers-isotropic']), dtype=np.float64)\n",
    "\n",
    "# Create adjoint receiver symbol\n",
    "srca = Receiver(name='srca', grid=solver.model.grid,\n",
    "                time_range=solver.geometry.time_axis,\n",
    "                coordinates=solver.geometry.src_positions)\n",
    "\n",
    "# Run forward and adjoint operators\n",
    "rec = solver.forward(save=False)[0]\n",
    "solver.adjoint(rec=rec, srca=srca)\n",
    "\n",
    "# Adjoint test: Verify <Ax,y> matches  <x, A^Ty> closely\n",
    "term1 = np.dot(srca.data.reshape(-1), solver.geometry.src.data)\n",
    "term2 = norm(rec) ** 2\n",
    "print('<x, A*y>: %f, <Ax,y>: %f, difference: %4.4e, ratio: %f'\n",
    "    % (term1, term2, (term1 - term2)/term1, term1/term2))\n",
    "\n",
    "\n",
    "assert np.isclose((term1 - term2)/term1, 0., atol=1.e-11)"
   ]
  },
  {
   "cell_type": "code",
   "execution_count": 14,
   "metadata": {},
   "outputs": [
    {
     "name": "stderr",
     "output_type": "stream",
     "text": [
      "/tmp/ipykernel_16146/3318135832.py:2: DeprecationWarning: Conversion of an array with ndim > 0 to a scalar is deprecated, and will error in future. Ensure you extract a single element from your array before performing this operation. (Deprecated NumPy 1.25.)\n",
      "  \"\"\"\n"
     ]
    },
    {
     "data": {
      "text/markdown": [
       "\n",
       "$\\langle x, A^Ty \\rangle$ | $\\langle Ax,y\\rangle$ | Relative Error | Ratio\n",
       "---------|--------|----------------|-------\n",
       "272611.466153 | 272611.466153 | -0.000000 | 1.000000\n",
       "    "
      ],
      "text/plain": [
       "<IPython.core.display.Markdown object>"
      ]
     },
     "execution_count": 14,
     "metadata": {},
     "output_type": "execute_result"
    }
   ],
   "source": [
    "Markdown(\n",
    "    \"\"\"\n",
    "$\\\\langle x, A^Ty \\\\rangle$ | $\\\\langle Ax,y\\\\rangle$ | Relative Error | Ratio\n",
    "---------|--------|----------------|-------\n",
    "%f | %f | %f | %f\n",
    "    \"\"\" % (term1, term2, (term1 - term2)/term1, term1/term2)\n",
    ")"
   ]
  },
  {
   "cell_type": "markdown",
   "metadata": {},
   "source": [
    "### Vector Reflectivity"
   ]
  },
  {
   "cell_type": "code",
   "execution_count": 15,
   "metadata": {},
   "outputs": [
    {
     "name": "stderr",
     "output_type": "stream",
     "text": [
      "Operator `initdamp` ran in 0.01 s\n",
      "Operator `Forward` ran in 0.01 s\n",
      "No source type defined, returning uninitiallized (zero) source\n",
      "Operator `Adjoint` ran in 0.02 s\n"
     ]
    },
    {
     "name": "stdout",
     "output_type": "stream",
     "text": [
      "<x, A*y>: 283018.393546, <Ax,y>: 283018.393546, difference: -1.6453e-15, ratio: 1.000000\n"
     ]
    },
    {
     "name": "stderr",
     "output_type": "stream",
     "text": [
      "/tmp/ipykernel_16146/3579955609.py:21: DeprecationWarning: Conversion of an array with ndim > 0 to a scalar is deprecated, and will error in future. Ensure you extract a single element from your array before performing this operation. (Deprecated NumPy 1.25.)\n",
      "  print('<x, A*y>: %f, <Ax,y>: %f, difference: %4.4e, ratio: %f'\n"
     ]
    }
   ],
   "source": [
    "tn = 500.  # Final time\n",
    "\n",
    "solver = vector_reflectivity_setup(spacing=[15. for _ in shape],\n",
    "                        nbl=10, tn=tn, space_order=2, time_order=1,\n",
    "                        **(presets['layers-isotropic-constant-density']), dtype=np.float64, f0=0.010)\n",
    "                        # **(presets['layers-viscoacoustic']), dtype=np.float64, f0=0.010)\n",
    "\n",
    "# Create adjoint receiver symbol\n",
    "srca = Receiver(name='srca', grid=solver.model.grid,\n",
    "                time_range=solver.geometry.time_axis,\n",
    "                coordinates=solver.geometry.src_positions)\n",
    "\n",
    "# Run forward and adjoint operators\n",
    "rec = solver.forward(save=False)[0]\n",
    "solver.adjoint(rec=rec, srca=srca)\n",
    "\n",
    "# Adjoint test: Verify <Ax,y> matches  <x, A^Ty> closely\n",
    "term1 = np.dot(srca.data.reshape(-1), solver.geometry.src.data)\n",
    "term2 = norm(rec) ** 2\n",
    "\n",
    "print('<x, A*y>: %f, <Ax,y>: %f, difference: %4.4e, ratio: %f'\n",
    "    % (term1, term2, (term1 - term2)/term1, term1/term2))\n",
    "\n",
    "\n",
    "assert np.isclose((term1 - term2)/term1, 0., atol=1.e-11)"
   ]
  },
  {
   "cell_type": "code",
   "execution_count": 16,
   "metadata": {},
   "outputs": [
    {
     "name": "stderr",
     "output_type": "stream",
     "text": [
      "/tmp/ipykernel_16146/3318135832.py:2: DeprecationWarning: Conversion of an array with ndim > 0 to a scalar is deprecated, and will error in future. Ensure you extract a single element from your array before performing this operation. (Deprecated NumPy 1.25.)\n",
      "  \"\"\"\n"
     ]
    },
    {
     "data": {
      "text/markdown": [
       "\n",
       "$\\langle x, A^Ty \\rangle$ | $\\langle Ax,y\\rangle$ | Relative Error | Ratio\n",
       "---------|--------|----------------|-------\n",
       "283018.393546 | 283018.393546 | -0.000000 | 1.000000\n",
       "    "
      ],
      "text/plain": [
       "<IPython.core.display.Markdown object>"
      ]
     },
     "execution_count": 16,
     "metadata": {},
     "output_type": "execute_result"
    }
   ],
   "source": [
    "Markdown(\n",
    "    \"\"\"\n",
    "$\\\\langle x, A^Ty \\\\rangle$ | $\\\\langle Ax,y\\\\rangle$ | Relative Error | Ratio\n",
    "---------|--------|----------------|-------\n",
    "%f | %f | %f | %f\n",
    "    \"\"\" % (term1, term2, (term1 - term2)/term1, term1/term2)\n",
    ")"
   ]
  },
  {
   "cell_type": "code",
   "execution_count": 17,
   "metadata": {},
   "outputs": [],
   "source": [
    "def latex_print(symbol):\n",
    "    return Latex(f'$${latex(symbol)}$$'.replace('frac', 'dfrac'))"
   ]
  },
  {
   "cell_type": "markdown",
   "metadata": {},
   "source": [
    "### Variable Density"
   ]
  },
  {
   "cell_type": "code",
   "execution_count": null,
   "metadata": {},
   "outputs": [
    {
     "name": "stderr",
     "output_type": "stream",
     "text": [
      "Operator `initdamp` ran in 0.01 s\n",
      "Re-initializing damp profile from mask to damp\n",
      "Model has to be created with `bcs=\"damp\"`for this WaveSolver\n",
      "Operator `initdamp` ran in 0.01 s\n",
      "Operator `Forward` ran in 0.01 s\n",
      "No source type defined, returning uninitiallized (zero) source\n",
      "Operator `Adjoint` ran in 0.01 s\n"
     ]
    },
    {
     "name": "stdout",
     "output_type": "stream",
     "text": [
      "<x, A*y>: 276482.795970, <Ax,y>: 276482.795970, difference: -1.6842e-15, ratio: 1.000000\n"
     ]
    },
    {
     "name": "stderr",
     "output_type": "stream",
     "text": [
      "/tmp/ipykernel_29801/4089954036.py:20: DeprecationWarning: Conversion of an array with ndim > 0 to a scalar is deprecated, and will error in future. Ensure you extract a single element from your array before performing this operation. (Deprecated NumPy 1.25.)\n",
      "  print('<x, A*y>: %f, <Ax,y>: %f, difference: %4.4e, ratio: %f'\n"
     ]
    }
   ],
   "source": [
    "tn = 500.  # Final time\n",
    "\n",
    "solver = variable_density_setup(spacing=[15. for _ in shape],\n",
    "                        nbl=10, tn=tn, space_order=2, time_order=1,\n",
    "                        **(presets['layers-isotropic-constant-density']), dtype=np.float64, f0=0.010)\n",
    "                        # **(presets['layers-viscoacoustic']), dtype=np.float64, f0=0.010)\n",
    "\n",
    "# Create adjoint receiver symbol\n",
    "srca = Receiver(name='srca', grid=solver.model.grid,\n",
    "                time_range=solver.geometry.time_axis,\n",
    "                coordinates=solver.geometry.src_positions)\n",
    "\n",
    "# Run forward and adjoint operators\n",
    "rec, u, _ = solver.forward(save=False)\n",
    "solver.adjoint(rec=rec, srca=srca)\n",
    "\n",
    "# Adjoint test: Verify <Ax,y> matches  <x, A^Ty> closely\n",
    "term1 = np.dot(srca.data.reshape(-1), solver.geometry.src.data)\n",
    "term2 = norm(rec) ** 2\n",
    "print('<x, A*y>: %f, <Ax,y>: %f, difference: %4.4e, ratio: %f'\n",
    "    % (term1, term2, (term1 - term2)/term1, term1/term2))\n",
    "\n",
    "\n",
    "assert np.isclose((term1 - term2)/term1, 0., atol=1.e-11)"
   ]
  },
  {
   "cell_type": "code",
   "execution_count": null,
   "metadata": {},
   "outputs": [
    {
     "name": "stderr",
     "output_type": "stream",
     "text": [
      "/tmp/ipykernel_29801/3318135832.py:2: DeprecationWarning: Conversion of an array with ndim > 0 to a scalar is deprecated, and will error in future. Ensure you extract a single element from your array before performing this operation. (Deprecated NumPy 1.25.)\n",
      "  \"\"\"\n"
     ]
    },
    {
     "data": {
      "text/markdown": [
       "\n",
       "$\\langle x, A^Ty \\rangle$ | $\\langle Ax,y\\rangle$ | Relative Error | Ratio\n",
       "---------|--------|----------------|-------\n",
       "276482.795970 | 276482.795970 | -0.000000 | 1.000000\n",
       "    "
      ],
      "text/plain": [
       "<IPython.core.display.Markdown object>"
      ]
     },
     "execution_count": 121,
     "metadata": {},
     "output_type": "execute_result"
    }
   ],
   "source": [
    "Markdown(\n",
    "    \"\"\"\n",
    "$\\\\langle x, A^Ty \\\\rangle$ | $\\\\langle Ax,y\\\\rangle$ | Relative Error | Ratio\n",
    "---------|--------|----------------|-------\n",
    "%f | %f | %f | %f\n",
    "    \"\"\" % (term1, term2, (term1 - term2)/term1, term1/term2)\n",
    ")"
   ]
  }
 ],
 "metadata": {
  "kernelspec": {
   "display_name": "devito-filipe",
   "language": "python",
   "name": "python3"
  },
  "language_info": {
   "codemirror_mode": {
    "name": "ipython",
    "version": 3
   },
   "file_extension": ".py",
   "mimetype": "text/x-python",
   "name": "python",
   "nbconvert_exporter": "python",
   "pygments_lexer": "ipython3",
   "version": "3.10.13"
  }
 },
 "nbformat": 4,
 "nbformat_minor": 2
}
